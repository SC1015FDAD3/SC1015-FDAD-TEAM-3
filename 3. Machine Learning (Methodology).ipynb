{
 "cells": [
  {
   "cell_type": "markdown",
   "id": "1e354fd2",
   "metadata": {},
   "source": [
    "# Methodology\n",
    "\n",
    "Our exploratory data analysis (EDA) reveals a significant correlation between \"artist_pop\" and \"track_pop\", with a correlation coefficient of 0.470736. This finding underscores the potential influence of an artist's popularity on the success of their tracks globally. \n",
    "\n",
    "However, the diverse popularity levels of artists in our dataset, including numerous tracks from artists with relatively lower popularity, highlight the necessity to investigate additional factors that might drive track popularity.\n",
    "\n",
    "\n",
    "\n",
    "### Given the substantial influence of the \"artist_pop\" variable on track popularity, we have structured our machine learning analysis into two distinct phases:\n",
    "\n",
    "### 1. Feature Importance Analysis with Machine Learning Techniques: \n",
    ">By using a multi-model approach, including Linear Regression, Random Forest, and Lasso Regression, we aim to delve deeper into the factors influencing \"track_pop\" beyond simple correlations. Machine learning allows us to assess a range of features and their interactions, providing a more nuanced understanding of track popularity. By using multiple models and automated tuning with H2O AutoML, we can find the optimal combination of variables and preprocessing methods.\n",
    "\n",
    "\n",
    "### 2. Clustering Analysis Focused on Musical Qualities:\n",
    ">Recognising that \"track_pop\" indicates worldwide popularity and not specifically virality on TikTok, and given that all tracks in our dataset have gone viral on TikTok to some extent, we employ clustering to identify commonalities in musical qualities among these tracks. By focusing solely on musical attributes and setting aside non-musical qualities, this analysis aims to pinpoint the intrinsic musical factors that contribute to a song's success on TikTok.\n",
    "\n",
    "\n",
    "This dual-analysis strategy enables a comprehensive understanding of the dynamics influencing TikTok virality. It provides valuable insights for stakeholders, including those with varying budget constraints, by highlighting how songs can achieve popularity based on their intrinsic musical qualities. This approach is particularly beneficial for optimising campaign strategies and resource allocation in scenarios where engaging top-tier artists may be impractical.\n"
   ]
  }
 ],
 "metadata": {
  "kernelspec": {
   "display_name": "Python 3 (ipykernel)",
   "language": "python",
   "name": "python3"
  },
  "language_info": {
   "codemirror_mode": {
    "name": "ipython",
    "version": 3
   },
   "file_extension": ".py",
   "mimetype": "text/x-python",
   "name": "python",
   "nbconvert_exporter": "python",
   "pygments_lexer": "ipython3",
   "version": "3.11.5"
  }
 },
 "nbformat": 4,
 "nbformat_minor": 5
}
